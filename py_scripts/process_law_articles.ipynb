{
 "cells": [
  {
   "cell_type": "code",
   "execution_count": 1,
   "metadata": {
    "collapsed": false
   },
   "outputs": [],
   "source": [
    "import requests\n",
    "from bs4 import BeautifulSoup\n",
    "import psycopg2"
   ]
  },
  {
   "cell_type": "markdown",
   "metadata": {},
   "source": [
    "Read the webpage and get the HTML content"
   ]
  },
  {
   "cell_type": "code",
   "execution_count": 2,
   "metadata": {
    "collapsed": false,
    "scrolled": true
   },
   "outputs": [],
   "source": [
    "page = requests.get('http://eur-lex.europa.eu/LexUriServ/LexUriServ.do?uri=CELEX:31994R0040:en:HTML')"
   ]
  },
  {
   "cell_type": "markdown",
   "metadata": {},
   "source": [
    "Parse the content with BeautifulSoup"
   ]
  },
  {
   "cell_type": "code",
   "execution_count": 5,
   "metadata": {
    "collapsed": false,
    "scrolled": true
   },
   "outputs": [],
   "source": [
    "soup = BeautifulSoup(page.text)"
   ]
  },
  {
   "cell_type": "markdown",
   "metadata": {},
   "source": [
    "Extract CELEX number"
   ]
  },
  {
   "cell_type": "code",
   "execution_count": 4,
   "metadata": {
    "collapsed": false
   },
   "outputs": [],
   "source": [
    "CELEXN=soup.title.string.split(\"-\")[2].replace(\" \", \"\")"
   ]
  },
  {
   "cell_type": "markdown",
   "metadata": {},
   "source": [
    "Now extracting information from the header: language, content, title and journal"
   ]
  },
  {
   "cell_type": "code",
   "execution_count": 7,
   "metadata": {
    "collapsed": false
   },
   "outputs": [],
   "source": [
    "metainfo=soup.head.find_all('meta')\n",
    "languageinfo=metainfo[0]['content']\n",
    "contentinfo=metainfo[2]['content']\n",
    "titleinfo=metainfo[3]['content']\n",
    "journalinfo=metainfo[5]['content'].split(\";\")[0]"
   ]
  },
  {
   "cell_type": "code",
   "execution_count": 8,
   "metadata": {
    "collapsed": false
   },
   "outputs": [
    {
     "name": "stdout",
     "output_type": "stream",
     "text": [
      "31994R0040\n",
      "EN\n",
      "Provisions under Article 235 EEC, Industrial and commercial property, Community law, European integration, \n",
      "Council Regulation (EC) No 40/94 of 20 December 1993 on the Community trade mark  \n",
      "Official Journal L 011 , 14/01/1994 P. 0001 - 0036\n"
     ]
    }
   ],
   "source": [
    "print CELEXN\n",
    "print languageinfo\n",
    "print contentinfo\n",
    "print titleinfo\n",
    "print journalinfo"
   ]
  },
  {
   "cell_type": "markdown",
   "metadata": {},
   "source": [
    "Now looping in the main body to extract articles"
   ]
  },
  {
   "cell_type": "code",
   "execution_count": 9,
   "metadata": {
    "collapsed": false
   },
   "outputs": [],
   "source": [
    "bodyall=soup.body"
   ]
  },
  {
   "cell_type": "markdown",
   "metadata": {
    "collapsed": false
   },
   "source": [
    "Deinfe empty quantities to fill in the loop"
   ]
  },
  {
   "cell_type": "code",
   "execution_count": 152,
   "metadata": {
    "collapsed": true
   },
   "outputs": [],
   "source": [
    "articlenum = []\n",
    "titleart = []\n",
    "paragraphs = []\n",
    "subparagraphs = []\n",
    "title = []"
   ]
  },
  {
   "cell_type": "markdown",
   "metadata": {},
   "source": [
    "Main function: loop in the body of the documents, identifies \"title\" if it starts with \"TITLE\", identify \"articles\" if it starts with \"Article\", extract the article number \"articlenum\" and extract the \"paragraphs\" for each article. For the moment the sub-paragraph (a),(b),(c) are concatenate within the sub-paragraph (need to find a better way)"
   ]
  },
  {
   "cell_type": "code",
   "execution_count": 153,
   "metadata": {
    "collapsed": false
   },
   "outputs": [
    {
     "name": "stdout",
     "output_type": "stream",
     "text": [
      " -- HAS ADOPTED THIS REGULATION -- found, star loop across articles\n"
     ]
    }
   ],
   "source": [
    "for j,parg in enumerate(bodyall.find_all(\"p\")):\n",
    "    if parg.get_text()==\"HAS ADOPTED THIS REGULATION:\":\n",
    "        print \" -- HAS ADOPTED THIS REGULATION -- found, star loop across articles\"\n",
    "    if \"TITLE\" == parg.get_text().split(' ')[0]:\n",
    "        tmp_title = parg.get_text().split(' ')[1]\n",
    "    if \"Article\" == parg.get_text().split(' ')[0]:\n",
    "        articlenum.append(int(filter(str.isdigit, str(parg.get_text()))))\n",
    "        title.append(tmp_title)\n",
    "        tmp_listp = []\n",
    "        for i,sibling in  enumerate(parg.next_siblings):\n",
    "            sib_txt = sibling.get_text()\n",
    "            if i == 0: # If first, get the title\n",
    "                titleart.append(sib_txt)\n",
    "            elif sib_txt and sib_txt.split(' ')[0] != \"SECTION\":\n",
    "                if sib_txt.split(' ')[0][0] == \"(\":\n",
    "                    tmp_listp[-1] = tmp_listp[-1] + sib_txt\n",
    "                else:\n",
    "                    tmp_listp.append(sib_txt)\n",
    "            elif not sib_txt: # If empty, break\n",
    "                break\n",
    "        paragraphs.append(tmp_listp)\n",
    "        #subparagraphs.append(tmp_listsp)"
   ]
  },
  {
   "cell_type": "code",
   "execution_count": null,
   "metadata": {
    "collapsed": false
   },
   "outputs": [],
   "source": [
    "print len(title) \n",
    "print len(paragraphs)\n",
    "print len(titleart)\n",
    "print len(articlenum)\n",
    "print title[0] # This is in Roman numbers, can be converted in integer\n",
    "print articlenum[0]\n",
    "print titleart[0]\n",
    "print paragraphs[0]"
   ]
  },
  {
   "cell_type": "markdown",
   "metadata": {},
   "source": [
    "Creating a connection with the database for storing the information. I created a postgresSQL database that can be access using SQL language. In this case we use the package psycopg2 to access the database via python."
   ]
  },
  {
   "cell_type": "code",
   "execution_count": 184,
   "metadata": {
    "collapsed": false
   },
   "outputs": [],
   "source": [
    "try:\n",
    "    conn = psycopg2.connect(\"dbname='eu_law_db' user='postgres' host='localhost' password='1011'\")\n",
    "except:\n",
    "    print \"I am unable to connect to the database\""
   ]
  },
  {
   "cell_type": "markdown",
   "metadata": {},
   "source": [
    "Create two tables in the database: The first table (eu_articles) contains a unique CELEX-article number combinations. Each row is an articles. The second table (eu_paragraph) contains all the paragraphs for all the articles. Each row is a paragraph, the unique key is the article number-unique paragraph number."
   ]
  },
  {
   "cell_type": "code",
   "execution_count": 185,
   "metadata": {
    "collapsed": false
   },
   "outputs": [],
   "source": [
    "cur = conn.cursor()\n",
    "cur.execute(\"CREATE TABLE eu_articles (celex varchar NOT NULL, title varchar NOT NULL, numarticle integer NOT NULL, titlearticle varchar NOT NULL, CONSTRAINT clex_numart PRIMARY KEY (celex,numarticle));\")\n",
    "cur.execute(\"CREATE TABLE eu_paragraph (celex varchar NOT NULL, numarticle integer NOT NULL, numpar SERIAL, paragraph varchar NOT NULL, CONSTRAINT clex_numart_numpar PRIMARY KEY (celex,numarticle,numpar));\")\n",
    "conn.commit()"
   ]
  },
  {
   "cell_type": "code",
   "execution_count": 189,
   "metadata": {
    "collapsed": false
   },
   "outputs": [],
   "source": [
    "eu_articles_imp=zip([CELEXN]*len(articlenum),title, articlenum, titleart)\n",
    "eu_paragraph_imp=[]\n",
    "for n,i in enumerate(paragraphs):\n",
    "    for k in i:\n",
    "        eu_paragraph_imp.append((CELEXN,articlenum[n],k))"
   ]
  },
  {
   "cell_type": "markdown",
   "metadata": {},
   "source": [
    "Inserting all the information obtained in the tables"
   ]
  },
  {
   "cell_type": "code",
   "execution_count": 190,
   "metadata": {
    "collapsed": false
   },
   "outputs": [],
   "source": [
    "cur = conn.cursor()\n",
    "cur.executemany(\"\"\"INSERT INTO eu_articles (celex, title, numarticle, titlearticle) VALUES (%s,%s,%s,%s)\"\"\", eu_articles_imp)\n",
    "conn.commit()"
   ]
  },
  {
   "cell_type": "code",
   "execution_count": 191,
   "metadata": {
    "collapsed": false
   },
   "outputs": [],
   "source": [
    "cur = conn.cursor()\n",
    "cur.executemany(\"\"\"INSERT INTO eu_paragraph (celex, numarticle, paragraph) VALUES (%s,%s,%s)\"\"\", eu_paragraph_imp)\n",
    "conn.commit()"
   ]
  },
  {
   "cell_type": "markdown",
   "metadata": {},
   "source": [
    "We start with listing all the .pdf in the folder (NOT USED RIGHT NOW)"
   ]
  },
  {
   "cell_type": "code",
   "execution_count": null,
   "metadata": {
    "collapsed": false
   },
   "outputs": [],
   "source": [
    "maindir=\"/Users/andrea/Documents/Work/eu_law_db\"\n",
    "datadir=maindir + \"/data\"\n",
    "for i in os.listdir(datadir):\n",
    "    print i"
   ]
  }
 ],
 "metadata": {
  "kernelspec": {
   "display_name": "Python 2",
   "language": "python",
   "name": "python2"
  },
  "language_info": {
   "codemirror_mode": {
    "name": "ipython",
    "version": 2
   },
   "file_extension": ".py",
   "mimetype": "text/x-python",
   "name": "python",
   "nbconvert_exporter": "python",
   "pygments_lexer": "ipython2",
   "version": "2.7.10"
  }
 },
 "nbformat": 4,
 "nbformat_minor": 0
}
